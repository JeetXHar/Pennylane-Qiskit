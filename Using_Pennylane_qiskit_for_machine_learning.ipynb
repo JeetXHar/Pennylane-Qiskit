{
  "nbformat": 4,
  "nbformat_minor": 0,
  "metadata": {
    "colab": {
      "provenance": []
    },
    "kernelspec": {
      "name": "python3",
      "display_name": "Python 3"
    },
    "language_info": {
      "name": "python"
    }
  },
  "cells": [
    {
      "cell_type": "code",
      "execution_count": 1,
      "metadata": {
        "colab": {
          "base_uri": "https://localhost:8080/"
        },
        "id": "zs_1JCiaWYIW",
        "outputId": "6abe459f-eee1-4775-c81d-ecdc06aab411"
      },
      "outputs": [
        {
          "output_type": "stream",
          "name": "stdout",
          "text": [
            "  Installing build dependencies ... \u001b[?25l\u001b[?25hdone\n",
            "  Getting requirements to build wheel ... \u001b[?25l\u001b[?25hdone\n",
            "  Preparing metadata (pyproject.toml) ... \u001b[?25l\u001b[?25hdone\n",
            "Collecting ibm-cloud-sdk-core<4.0.0,>=3.18.2 (from ibm-platform-services>=0.22.6->qiskit-ibm-runtime->pennylane-qiskit)\n",
            "  Downloading ibm-cloud-sdk-core-3.19.0.tar.gz (58 kB)\n",
            "\u001b[2K     \u001b[90m━━━━━━━━━━━━━━━━━━━━━━━━━━━━━━━━━━━━━━━━\u001b[0m \u001b[32m58.1/58.1 kB\u001b[0m \u001b[31m6.2 MB/s\u001b[0m eta \u001b[36m0:00:00\u001b[0m\n",
            "\u001b[?25h  Installing build dependencies ... \u001b[?25l\u001b[?25hdone\n",
            "  Getting requirements to build wheel ... \u001b[?25l\u001b[?25hdone\n",
            "  Preparing metadata (pyproject.toml) ... \u001b[?25l\u001b[?25hdone\n",
            "Requirement already satisfied: six>=1.5 in /usr/local/lib/python3.10/dist-packages (from python-dateutil>=2.8.0->qiskit-terra==0.45.2->qiskit>=0.32->pennylane-qiskit) (1.16.0)\n",
            "Requirement already satisfied: charset-normalizer<4,>=2 in /usr/local/lib/python3.10/dist-packages (from requests->pennylane>=0.30->pennylane-qiskit) (3.3.2)\n",
            "Requirement already satisfied: idna<4,>=2.5 in /usr/local/lib/python3.10/dist-packages (from requests->pennylane>=0.30->pennylane-qiskit) (3.6)\n",
            "Requirement already satisfied: certifi>=2017.4.17 in /usr/local/lib/python3.10/dist-packages (from requests->pennylane>=0.30->pennylane-qiskit) (2023.11.17)\n",
            "Requirement already satisfied: cryptography>=1.3 in /usr/local/lib/python3.10/dist-packages (from requests-ntlm>=1.1.0->qiskit-ibm-provider->pennylane-qiskit) (41.0.7)\n",
            "Collecting pyspnego>=0.1.6 (from requests-ntlm>=1.1.0->qiskit-ibm-provider->pennylane-qiskit)\n",
            "  Downloading pyspnego-0.10.2-py3-none-any.whl (129 kB)\n",
            "\u001b[2K     \u001b[90m━━━━━━━━━━━━━━━━━━━━━━━━━━━━━━━━━━━━━━━━\u001b[0m \u001b[32m129.9/129.9 kB\u001b[0m \u001b[31m11.9 MB/s\u001b[0m eta \u001b[36m0:00:00\u001b[0m\n",
            "\u001b[?25hRequirement already satisfied: future>=0.15.2 in /usr/local/lib/python3.10/dist-packages (from autograd->pennylane>=0.30->pennylane-qiskit) (0.18.3)\n",
            "Requirement already satisfied: cffi>=1.12 in /usr/local/lib/python3.10/dist-packages (from cryptography>=1.3->requests-ntlm>=1.1.0->qiskit-ibm-provider->pennylane-qiskit) (1.16.0)\n",
            "Collecting urllib3>=1.21.1 (from qiskit-ibm-provider->pennylane-qiskit)\n",
            "  Downloading urllib3-2.1.0-py3-none-any.whl (104 kB)\n",
            "\u001b[2K     \u001b[90m━━━━━━━━━━━━━━━━━━━━━━━━━━━━━━━━━━━━━━━━\u001b[0m \u001b[32m104.6/104.6 kB\u001b[0m \u001b[31m9.8 MB/s\u001b[0m eta \u001b[36m0:00:00\u001b[0m\n",
            "\u001b[?25hCollecting PyJWT<3.0.0,>=2.8.0 (from ibm-cloud-sdk-core<4.0.0,>=3.18.2->ibm-platform-services>=0.22.6->qiskit-ibm-runtime->pennylane-qiskit)\n",
            "  Downloading PyJWT-2.8.0-py3-none-any.whl (22 kB)\n",
            "Collecting pbr!=2.1.0,>=2.0.0 (from stevedore>=3.0.0->qiskit-terra==0.45.2->qiskit>=0.32->pennylane-qiskit)\n",
            "  Downloading pbr-6.0.0-py2.py3-none-any.whl (107 kB)\n",
            "\u001b[2K     \u001b[90m━━━━━━━━━━━━━━━━━━━━━━━━━━━━━━━━━━━━━━━━\u001b[0m \u001b[32m107.5/107.5 kB\u001b[0m \u001b[31m6.9 MB/s\u001b[0m eta \u001b[36m0:00:00\u001b[0m\n",
            "\u001b[?25hRequirement already satisfied: mpmath>=0.19 in /usr/local/lib/python3.10/dist-packages (from sympy>=1.3->qiskit-terra==0.45.2->qiskit>=0.32->pennylane-qiskit) (1.3.0)\n",
            "Requirement already satisfied: pycparser in /usr/local/lib/python3.10/dist-packages (from cffi>=1.12->cryptography>=1.3->requests-ntlm>=1.1.0->qiskit-ibm-provider->pennylane-qiskit) (2.21)\n",
            "Building wheels for collected packages: ibm-platform-services, ibm-cloud-sdk-core\n",
            "  Building wheel for ibm-platform-services (pyproject.toml) ... \u001b[?25l\u001b[?25hdone\n",
            "  Created wheel for ibm-platform-services: filename=ibm_platform_services-0.49.0-py3-none-any.whl size=316177 sha256=3d400b4449505ba7464715f352d3017d740745b0a3792e5265ea451ebb80369f\n",
            "  Stored in directory: /root/.cache/pip/wheels/23/95/32/bbd98f6f559d5851a5fd50ff5496ca9d6ac2c5dbf1ec2030dd\n",
            "  Building wheel for ibm-cloud-sdk-core (pyproject.toml) ... \u001b[?25l\u001b[?25hdone\n",
            "  Created wheel for ibm-cloud-sdk-core: filename=ibm_cloud_sdk_core-3.19.0-py3-none-any.whl size=94538 sha256=b719946ea038b5d168d96f91f963e57c8edd038ac4288ac75c1f6777a01f11a7\n",
            "  Stored in directory: /root/.cache/pip/wheels/66/a5/0d/00b79cd342d9ca66f91e682b0ae8659636978f3b93a6b59e8e\n",
            "Successfully built ibm-platform-services ibm-cloud-sdk-core\n",
            "Installing collected packages: ply, websockets, urllib3, symengine, semantic-version, rustworkx, PyJWT, pbr, dill, autoray, stevedore, qiskit-terra, pyspnego, ibm-cloud-sdk-core, requests-ntlm, qiskit, ibm-platform-services, qiskit-ibm-provider, qiskit-aer, qiskit-ibm-runtime, pennylane-lightning, pennylane, pennylane-qiskit\n",
            "  Attempting uninstall: urllib3\n",
            "    Found existing installation: urllib3 2.0.7\n",
            "    Uninstalling urllib3-2.0.7:\n",
            "      Successfully uninstalled urllib3-2.0.7\n",
            "  Attempting uninstall: PyJWT\n",
            "    Found existing installation: PyJWT 2.3.0\n",
            "    Uninstalling PyJWT-2.3.0:\n",
            "      Successfully uninstalled PyJWT-2.3.0\n",
            "Successfully installed PyJWT-2.8.0 autoray-0.6.7 dill-0.3.7 ibm-cloud-sdk-core-3.19.0 ibm-platform-services-0.49.0 pbr-6.0.0 pennylane-0.34.0 pennylane-lightning-0.34.0 pennylane-qiskit-0.34.0 ply-3.11 pyspnego-0.10.2 qiskit-0.45.2 qiskit-aer-0.13.2 qiskit-ibm-provider-0.8.0 qiskit-ibm-runtime-0.17.0 qiskit-terra-0.45.2 requests-ntlm-1.2.0 rustworkx-0.13.2 semantic-version-2.10.0 stevedore-5.1.0 symengine-0.11.0 urllib3-2.1.0 websockets-12.0\n"
          ]
        }
      ],
      "source": [
        "!pip install pennylane-qiskit"
      ]
    },
    {
      "cell_type": "markdown",
      "source": [
        "A Very Simple pennylane circuit used for QNN"
      ],
      "metadata": {
        "id": "He3B_3izb2Hb"
      }
    },
    {
      "cell_type": "code",
      "source": [
        "from qiskit.providers.fake_provider import FakeAuckland\n",
        "\n",
        "#Quantum Noise Model Structure\n",
        "import qiskit_aer.noise as noise\n",
        "\n",
        "#Important Imports\n",
        "import pennylane as qml\n",
        "import pandas as pd\n",
        "import tensorflow as tf\n",
        "from tensorflow import keras\n",
        "from matplotlib import pyplot as plt\n",
        "from pennylane import numpy as np\n",
        "from multiprocessing import cpu_count\n",
        "from keras.layers import *\n",
        "from keras.models import Model\n",
        "from keras.models import Sequential\n",
        "\n",
        "#Noise Mitigation tools and circuit transpilation tools\n",
        "from pennylane.transforms import mitigate_with_zne\n",
        "\n",
        "#intialization\n",
        "random_seed=965\n",
        "np.random.seed(random_seed)\n",
        "tf.random.set_seed(random_seed)\n",
        "tf.keras.backend.set_floatx('float64')\n",
        "\n",
        "(X_train,Y_train),(X_test,Y_test)=keras.datasets.mnist.load_data()\n",
        "\n",
        "\n",
        "#Extracting Binary Data\n",
        "t=[0,1]\n",
        "\n",
        "binary_index=[i for i in range(len(Y_train)) if Y_train[i] in t]\n",
        "X_train=X_train[binary_index]\n",
        "Y_train=Y_train[binary_index]\n",
        "binary_index=[i for i in range(len(Y_test)) if Y_test[i] in t]\n",
        "X_test=X_test[binary_index]\n",
        "Y_test=Y_test[binary_index]\n",
        "\n",
        "#Place to save all\n",
        "folder =\"/content/sample_data/local_runtime/\"\n",
        "\n",
        "\n",
        "#Sample Size\n",
        "n_train=1000\n",
        "n_test=300\n",
        "\n",
        "X_train=X_train[:n_train]\n",
        "Y_train=Y_train[:n_train]\n",
        "X_test=X_test[:n_test]\n",
        "Y_test=Y_test[:n_test]\n",
        "X_train=X_train/255*np.pi\n",
        "X_test =X_test/255*np.pi\n",
        "X_train = np.array(X_train[...,tf.newaxis],requires_grad=False,dtype=np.float64)\n",
        "X_test  = np.array( X_test[...,tf.newaxis],requires_grad=False,dtype=np.float64)\n",
        "\n",
        "\n",
        "#Parameters\n",
        "n_epochs=30\n",
        "batch_size=8\n",
        "\n",
        "#System Details\n",
        "print(cpu_count())\n",
        "print(tf.config.list_physical_devices('GPU'))\n",
        "print(tf.config.list_physical_devices('CPU'))\n"
      ],
      "metadata": {
        "colab": {
          "base_uri": "https://localhost:8080/"
        },
        "id": "kHtLfC1sW7ZE",
        "outputId": "4aa2949a-d57d-4b3b-8c12-7981d98564aa"
      },
      "execution_count": 2,
      "outputs": [
        {
          "output_type": "stream",
          "name": "stdout",
          "text": [
            "Downloading data from https://storage.googleapis.com/tensorflow/tf-keras-datasets/mnist.npz\n",
            "11490434/11490434 [==============================] - 1s 0us/step\n",
            "2\n",
            "[]\n",
            "[PhysicalDevice(name='/physical_device:CPU:0', device_type='CPU')]\n"
          ]
        }
      ]
    },
    {
      "cell_type": "code",
      "source": [
        "def QuantumLayer(provider,m,input_dim):\n",
        "\n",
        "  weight={\"weights\":(2,m)}\n",
        "  n=input_dim[1]\n",
        "\n",
        "  noisemodel=noise.NoiseModel.from_backend(provider)\n",
        "\n",
        "  dev=qml.device(\"qiskit.aer\",wires=m,backend=\"aer_simulator_statevector\",noise_model =noisemodel,shots=10)\n",
        "\n",
        "  @qml.qnode(dev)\n",
        "  def layer(inputs,weights):\n",
        "      inputs=inputs[0]\n",
        "      for i in range(m):\n",
        "\n",
        "        qml.RY(inputs[n*i],wires=i)\n",
        "        qml.RZ(inputs[n*i+1],wires=i)\n",
        "        qml.RX(inputs[n*i+2],wires=i)\n",
        "        qml.RY(inputs[n*i+3],wires=i)\n",
        "\n",
        "      qml.BasicEntanglerLayers(weights,wires=range(m))\n",
        "      return [qml.expval(qml.PauliZ(i)) for i in range(m)]\n",
        "\n",
        "  return qml.qnn.KerasLayer(layer,weight,output_dim=m,)\n"
      ],
      "metadata": {
        "id": "ipz34l8NcOgZ"
      },
      "execution_count": 11,
      "outputs": []
    },
    {
      "cell_type": "code",
      "source": [
        "qlayer=QuantumLayer(FakeAuckland(),4,(4,4))\n",
        "\n",
        "model = Sequential([\n",
        "            keras.layers.Cropping2D(cropping=((2, 2), (2, 2))),\n",
        "            keras.layers.AveragePooling2D(pool_size=(6,6),strides=(6, 6)),\n",
        "            keras.layers.Flatten(),\n",
        "            qlayer,\n",
        "            keras.layers.Normalization(mean=0,variance=1,axis=None),\n",
        "            keras.layers.Dense(1,activation=\"sigmoid\"),\n",
        "        ])\n",
        "\n",
        "\n",
        "model.compile(optimizer=\"adam\", loss = 'binary_crossentropy', metrics =['accuracy'])\n",
        "\n",
        "hybrid = model.fit(X_train,\n",
        "                    Y_train,\n",
        "                    epochs = n_epochs,\n",
        "                    batch_size = 1,\n",
        "                    validation_data=(X_test,Y_test),\n",
        "                    verbose=1,\n",
        "                    shuffle = True,workers=cpu_count(), use_multiprocessing=True)\n",
        "\"\"\"\n",
        "w=model.get_weights()\n",
        "model.set_weights(w)\n",
        "\n",
        "model.evaluate(X,Y,verbose=1)\n",
        "print(hybrid.history['accuracy'])\n",
        "\"\"\""
      ],
      "metadata": {
        "id": "Rqyv0INzclCa"
      },
      "execution_count": null,
      "outputs": []
    },
    {
      "cell_type": "markdown",
      "source": [
        "Non-Linear Training"
      ],
      "metadata": {
        "id": "QkXXjxDfhDuv"
      }
    },
    {
      "cell_type": "code",
      "source": [
        "from qiskit.providers.fake_provider import FakeLagosV2,FakeWashingtonV2,FakeGuadalupeV2\n",
        "\n",
        "shape=X_test[0].shape\n",
        "\n",
        "# Model\n",
        "input=Input(shape=shape)\n",
        "crop=Cropping2D(cropping=((2,2),(2,2)))(input)\n",
        "pool=AveragePooling2D(pool_size=(3,3),strides=(3,3))(crop)\n",
        "flat=Flatten()(pool)\n",
        "\n",
        "img1,img2,img3,img4=tf.split(flat,[16,16,16,16],1)\n",
        "\n",
        "qlayer1=QuantumLayer(FakeLagosV2()      ,2,(2,8))(img1)\n",
        "qlayer2=QuantumLayer(FakeAuckland()     ,2,(2,8))(img2)\n",
        "qlayer3=QuantumLayer(FakeWashingtonV2() ,2,(2,8))(img3)\n",
        "qlayer4=QuantumLayer(FakeGuadalupeV2()  ,2,(2,8))(img4)\n",
        "\n",
        "conc=tf.concat([qlayer1,qlayer2,qlayer3,qlayer4],axis=1)\n",
        "\n",
        "norm=Normalization(mean=0,variance=1,axis=None)(conc)\n",
        "\n",
        "dense=Dense(2,activation=\"softmax\")(norm)\n",
        "\n",
        "model=Model(inputs=input,outputs=dense)\n",
        "\n",
        "model.compile(optimizer=\"adam\", loss = 'sparse_categorical_crossentropy', metrics =['accuracy'])\n",
        "\n",
        "hybrid = model.fit(X_train,\n",
        "                    Y_train,\n",
        "                    epochs = n_epochs,\n",
        "                    batch_size = batch_size,\n",
        "                    validation_data=(X_test,Y_test),\n",
        "                    verbose=1,\n",
        "                    shuffle = True,workers=cpu_count(), use_multiprocessing=True)\n"
      ],
      "metadata": {
        "id": "mH6fhsHecR3u"
      },
      "execution_count": null,
      "outputs": []
    },
    {
      "cell_type": "markdown",
      "source": [
        "ZNE Implementation"
      ],
      "metadata": {
        "id": "8F256bipiOrf"
      }
    },
    {
      "cell_type": "code",
      "source": [
        "def QuantumLayerZNE(provider,m,input_dim):\n",
        "\n",
        "  weight={\"weights\":(2,m)}\n",
        "  n=input_dim[1]\n",
        "\n",
        "  noisemodel=noise.NoiseModel.from_backend(provider)\n",
        "\n",
        "  dev=qml.device(\"qiskit.aer\",wires=m,backend=\"aer_simulator_statevector\",noise_model =noisemodel,shots=10)\n",
        "\n",
        "  @qml.qnode(dev)\n",
        "  def layer(inputs,weights):\n",
        "      inputs=inputs[0]\n",
        "      for i in range(m):\n",
        "\n",
        "        qml.RY(inputs[n*i],wires=i)\n",
        "        qml.RZ(inputs[n*i+1],wires=i)\n",
        "        qml.RX(inputs[n*i+2],wires=i)\n",
        "        qml.RY(inputs[n*i+3],wires=i)\n",
        "\n",
        "      qml.BasicEntanglerLayers(weights,wires=range(m))\n",
        "      return [qml.expval(qml.PauliZ(i)) for i in range(m)]\n",
        "\n",
        "  scale_factors = [1, 2, 3]\n",
        "\n",
        "  layer = mitigate_with_zne(\n",
        "        scale_factors=scale_factors,\n",
        "        folding=qml.transforms.fold_global,\n",
        "        extrapolate=qml.transforms.richardson_extrapolate,\n",
        "    )(layer)\n",
        "  return qml.qnn.KerasLayer(layer,weight,output_dim=m,)\n",
        "\n",
        "# Rest of the working and usage is same"
      ],
      "metadata": {
        "id": "kmO2qxhIiRbT"
      },
      "execution_count": null,
      "outputs": []
    },
    {
      "cell_type": "markdown",
      "source": [
        "Add specific noise"
      ],
      "metadata": {
        "id": "WLrhVZWE8NRJ"
      }
    },
    {
      "cell_type": "code",
      "source": [
        "custom_noise=noise.NoiseModel()\n",
        "custom_noise.add_all_qubit_quantum_error(noise.pauli_error([('X', 0.7), ('I', 0.3)]),['cx', 'id', 'rz', 'x', 'sx','u1','u2','u3'])"
      ],
      "metadata": {
        "id": "vdGMmmjBim-e"
      },
      "execution_count": 3,
      "outputs": []
    }
  ]
}